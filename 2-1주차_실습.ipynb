{
  "nbformat": 4,
  "nbformat_minor": 0,
  "metadata": {
    "colab": {
      "name": "1주차 실습.ipynb",
      "provenance": []
    },
    "kernelspec": {
      "name": "python3",
      "display_name": "Python 3"
    },
    "language_info": {
      "name": "python"
    }
  },
  "cells": [
    {
      "cell_type": "markdown",
      "metadata": {
        "id": "FejEWOKUlmtu"
      },
      "source": [
        "# 숙제1: ETL함수 작성\n",
        "Extract, Transform(Data format 변환), Load(redshift 테이블에 푸쉬) \n",
        "\n",
        "1. INSERT INTO SQL 완성하기\n",
        "2. 기존 테이블의 내용을 지우고 새로 업데이트 하는 방식 Full-Refresh라면 어떻게 하는게 좋을지 (트랜잭션을 생각, Full-Refresh형태로 동작하게 load 함수 변경 필요)\n"
      ]
    },
    {
      "cell_type": "code",
      "metadata": {
        "id": "6CU53rva2dCU"
      },
      "source": [
        "import requests\n",
        "def extract(url):\n",
        "  f = requests.get(url)\n",
        "  return (f.text)"
      ],
      "execution_count": null,
      "outputs": []
    },
    {
      "cell_type": "code",
      "metadata": {
        "id": "ZupULhJV3TsA"
      },
      "source": [
        "\n",
        "import csv\n",
        "def transform(date):\n",
        "  reader = csv.reader(data.strip().split(\"\\n\"))\n",
        "  return reader"
      ],
      "execution_count": null,
      "outputs": []
    },
    {
      "cell_type": "code",
      "metadata": {
        "id": "FsfjgK693br8",
        "colab": {
          "base_uri": "https://localhost:8080/"
        },
        "outputId": "68bfb937-7e1e-4cf4-c0a1-c2ba943299eb"
      },
      "source": [
        "import psycopg2\n",
        "\n",
        "# Redshift connection 함수\n",
        "def get_Redshift_connection():\n",
        "    host = \"learnde.cduaw970ssvt.ap-northeast-2.redshift.amazonaws.com\"\n",
        "    redshift_user = \"ID\"\n",
        "    redshift_pass = \"PW\"\n",
        "    port = 5439\n",
        "    dbname = \"dev\"\n",
        "    conn = psycopg2.connect(\"dbname={dbname} user={user} host={host} password={password} port={port}\".format(\n",
        "        dbname=dbname,\n",
        "        user=redshift_user,\n",
        "        password=redshift_pass,\n",
        "        host=host,\n",
        "        port=port\n",
        "    ))\n",
        "    conn.set_session(autocommit=True)\n",
        "    return conn.cursor()\n",
        "  \n"
      ],
      "execution_count": null,
      "outputs": [
        {
          "output_type": "stream",
          "name": "stderr",
          "text": [
            "/usr/local/lib/python3.7/dist-packages/psycopg2/__init__.py:144: UserWarning: The psycopg2 wheel package will be renamed from release 2.8; in order to keep installing from binary please use \"pip install psycopg2-binary\" instead. For details see: <http://initd.org/psycopg/docs/install.html#binary-install-from-pypi>.\n",
            "  \"\"\")\n"
          ]
        }
      ]
    },
    {
      "cell_type": "code",
      "metadata": {
        "id": "pe6xzkPKhGYC"
      },
      "source": [
        "def load(csv_reader):\n",
        "    cur = get_Redshift_connection()\n",
        " \n",
        "    for name, gender in csv_reader:\n",
        "        print(name, gender)\n",
        "        sql = \"INSERT INTO raw_data.name_gender VALUES (name, gender)\" \n",
        "    cur.execute(sql)\n"
      ],
      "execution_count": null,
      "outputs": []
    },
    {
      "cell_type": "markdown",
      "metadata": {
        "id": "ivbHyMo4cOPT"
      },
      "source": [
        "Full-Refresh 형태로 만들기"
      ]
    },
    {
      "cell_type": "code",
      "metadata": {
        "id": "aNLtO0YbcIZH"
      },
      "source": [
        "# 내답안\n",
        "\n",
        "def load(csv_reader):\n",
        "    cur = get_Redshift_connection()\n",
        "    sql = \"\"\"DROP TABLE IF EXISTS raw_data.name_gender \\\n",
        "        CREATE TABLE raw_data.name_gender;\"\"\"\n",
        "    #TRUNCATE는 Transaction 안에서는 쓰면 안됨. Delete from 은 Rollback하지만 truncate은 못함.\n",
        "    \n",
        "  \n",
        "    cur.execute(sql)\n",
        "    for name, gender in csv_reader:\n",
        "       \n",
        "        sql = \"INSERT INTO raw_data.name_gender VALUES ({name}, {gender})\".format(name = name, gender = gender)\n",
        "    cur.execute(sql)    "
      ],
      "execution_count": null,
      "outputs": []
    },
    {
      "cell_type": "code",
      "metadata": {
        "id": "pOp6zmKMd1yr"
      },
      "source": [
        "#Solution 1 - Begin / End\n",
        "def load(csv_reader):\n",
        "    cur = get_Redshift_connection() \n",
        "    # cur: autocommit = True - BEGIN;END\n",
        "    sql = \"\"\"BEGIN;CREATE TALBE IF NOT EXISTS raw_data.name_gender (\n",
        "            name varchar(64),\n",
        "            gender varchar(16)\n",
        "            );\n",
        "            DELETE FROM raw_data.name_gender;\"\"\"\n",
        "    cur.execute(sql)   \n",
        "    for name, gender in csv_reader:\n",
        "        sql = \"\"\"\n",
        "            INSERT INTO raw_data.name_gender\n",
        "            VALUES ({name}, {gender});\n",
        "            \"\"\".format(name=name, gender=gender)\n",
        "        cur.execute(sql)\n",
        "    cur.execute(\"END\")\n"
      ],
      "execution_count": null,
      "outputs": []
    },
    {
      "cell_type": "code",
      "metadata": {
        "id": "Okjd8my1eL0z"
      },
      "source": [
        "#Solution 2 - Try/catch\n",
        "#cur : autocommit = True\n",
        "\n",
        "def load(csv_reader):\n",
        "    cur = get_Redshift_connection() \n",
        "    try:\n",
        "      sql = \"\"\"BEGIN;CREATE TALBE IF NOT EXISTS raw_data.name_gender (\n",
        "              name varchar(64),\n",
        "              gender varchar(16)\n",
        "              );\n",
        "              DELETE FROM raw_data.name_gender;\"\"\"\n",
        "      cur.execute(sql)   \n",
        "      for name, gender in csv_reader:\n",
        "          sql = \"\"\"\n",
        "              INSERT INTO raw_data.name_gender\n",
        "              VALUES ({name}, {gender});\n",
        "              \"\"\".format(name=name, gender=gender)\n",
        "          cur.execute(sql)\n",
        "      cur.execute(\"END\") # cur.execute(\"COMMIT\")\n",
        "    except Exception as e:\n",
        "      cur.execute(\"ROLLBACK\")    #error나면 지금까지 했던거 다 무시하고 begin전으로 돌아가라\n",
        "\n",
        "\n",
        "\n",
        "#autocommit = False:\n",
        "def load(csv_reader):\n",
        "    cur = get_Redshift_connection() \n",
        "    try:\n",
        "      sql = \"\"\"CREATE TALBE IF NOT EXISTS raw_data.name_gender (\n",
        "              name varchar(64),\n",
        "              gender varchar(16)\n",
        "              );\n",
        "              DELETE FROM raw_data.name_gender;\"\"\"\n",
        "      cur.execute(sql)   \n",
        "      for name, gender in csv_reader:\n",
        "          sql = \"\"\"\n",
        "              INSERT INTO raw_data.name_gender\n",
        "              VALUES ({name}, {gender});\n",
        "              \"\"\".format(name=name, gender=gender)\n",
        "          cur.execute(sql)\n",
        "      cur.execute(\"END\") # cur.execute(\"COMMIT\")\n",
        "    except Exception as e:\n",
        "      cur.execute(\"ROLLBACK\") \n"
      ],
      "execution_count": null,
      "outputs": []
    },
    {
      "cell_type": "markdown",
      "metadata": {
        "id": "bqwAdnnSl2RE"
      },
      "source": [
        "#숙제 2: Open Weather Map API \n",
        "1. API Key를 받아서 서울의 위도 경도 찾을것\n",
        "2. 서울의 정보 (날짜, 평균온도, 최소온도, 최대온도)만 앞으로 7일 대상으로 출력\n",
        "https://api.openweathermap.org/data/2.5/onecall?lat={37.56}&lon{126.97}&appid={00a33e28fdb3098bec6c02b7c229ffe8}"
      ]
    },
    {
      "cell_type": "markdown",
      "metadata": {
        "id": "x6BTYxdahCE3"
      },
      "source": [
        "## 1) 서울의 위도, 경도 찾기"
      ]
    },
    {
      "cell_type": "code",
      "metadata": {
        "colab": {
          "base_uri": "https://localhost:8080/"
        },
        "id": "4AFMNuyGj9Qo",
        "outputId": "c4c45855-0262-4ef1-c4ea-c5614bb6d9ad"
      },
      "source": [
        "import requests, json\n",
        "api_key = \"00a33e28fdb3098bec6c02b7c229ffe8\"\n",
        "city_name = \"Seoul\"\n",
        "lon = 0\n",
        "lat = 0\n",
        "base_url = \"http://api.openweathermap.org/data/2.5/weather?\"\n",
        "complete_url = base_url + \"appid=\" + api_key + \"&q=\" + city_name\n",
        "response = requests.get(complete_url)\n",
        "x = response.json()\n",
        "\n",
        "if x['cod'] != '404':\n",
        "  y = x['main']\n",
        "  lon = x['coord']['lon']\n",
        "  lat = x['coord']['lat']\n",
        "  print(f\"longtitude: {lon} \\n latitude: {lat}\")\n",
        "else: (\"Seoul Not Found\")"
      ],
      "execution_count": null,
      "outputs": [
        {
          "output_type": "stream",
          "name": "stdout",
          "text": [
            "longtitude: 126.9778 \n",
            " latitude: 37.5683\n"
          ]
        }
      ]
    },
    {
      "cell_type": "markdown",
      "metadata": {
        "id": "wc78CFs3haNQ"
      },
      "source": [
        "##2) 위도 경도 정보로 서울의 향후 7일 데이타 찾기\n"
      ]
    },
    {
      "cell_type": "code",
      "metadata": {
        "colab": {
          "base_uri": "https://localhost:8080/"
        },
        "id": "q06Eux6yptfR",
        "outputId": "fdd44cc0-e9ba-4c04-e17b-8d306d587328"
      },
      "source": [
        "api_key = \"00a33e28fdb3098bec6c02b7c229ffe8\"\n",
        "#not work !! url = \"https://api.openweathermap.org/data/2.5/onecall?lat={lat}&lon={lon}&appid={'00a33e28fdb3098bec6c02b7c229ffe8'}\"\n",
        "url ='https://api.openweathermap.org/data/2.5/onecall?lat={}&lon={}&exclude={}&units={}&appid={}'.format(37.57,126.98,'current,minutely,hourly','metric',\"00a33e28fdb3098bec6c02b7c229ffe8\")\n",
        "\n",
        "response = requests.get(url)\n",
        "data = response.json()\n",
        "print(data)\n",
        "print(data['daily'])\n",
        "\n",
        "import pandas as pd\n",
        "df = pd.json_normalize(data, record_path = ['daily'])\n",
        "print(df)"
      ],
      "execution_count": null,
      "outputs": [
        {
          "output_type": "stream",
          "name": "stdout",
          "text": [
            "{'lat': 37.57, 'lon': 126.98, 'timezone': 'Asia/Seoul', 'timezone_offset': 32400, 'daily': [{'dt': 1634958000, 'sunrise': 1634939250, 'sunset': 1634978705, 'moonrise': 1634984100, 'moonset': 1634947260, 'moon_phase': 0.58, 'temp': {'day': 12.08, 'min': 9.39, 'max': 17.31, 'night': 12.61, 'eve': 14.94, 'morn': 9.79}, 'feels_like': {'day': 10.83, 'night': 11, 'eve': 13.3, 'morn': 9.79}, 'pressure': 1029, 'humidity': 57, 'dew_point': 3.83, 'wind_speed': 3.4, 'wind_deg': 267, 'wind_gust': 3.35, 'weather': [{'id': 800, 'main': 'Clear', 'description': 'clear sky', 'icon': '01d'}], 'clouds': 0, 'pop': 0, 'uvi': 3.85}, {'dt': 1635044400, 'sunrise': 1635025709, 'sunset': 1635065030, 'moonrise': 1635072600, 'moonset': 1635037200, 'moon_phase': 0.61, 'temp': {'day': 15.87, 'min': 9.99, 'max': 16.98, 'night': 12.71, 'eve': 15.26, 'morn': 10.3}, 'feels_like': {'day': 14.48, 'night': 11.24, 'eve': 13.6, 'morn': 8.64}, 'pressure': 1028, 'humidity': 37, 'dew_point': 0.92, 'wind_speed': 2.65, 'wind_deg': 299, 'wind_gust': 3.39, 'weather': [{'id': 800, 'main': 'Clear', 'description': 'clear sky', 'icon': '01d'}], 'clouds': 0, 'pop': 0, 'uvi': 3.65}, {'dt': 1635130800, 'sunrise': 1635112170, 'sunset': 1635151356, 'moonrise': 1635161400, 'moonset': 1635127080, 'moon_phase': 0.64, 'temp': {'day': 15.93, 'min': 10.16, 'max': 17.42, 'night': 13.34, 'eve': 15.7, 'morn': 10.4}, 'feels_like': {'day': 14.57, 'night': 12.19, 'eve': 14.4, 'morn': 8.85}, 'pressure': 1024, 'humidity': 38, 'dew_point': 1.49, 'wind_speed': 2.97, 'wind_deg': 308, 'wind_gust': 3.7, 'weather': [{'id': 800, 'main': 'Clear', 'description': 'clear sky', 'icon': '01d'}], 'clouds': 0, 'pop': 0, 'uvi': 3.42}, {'dt': 1635217200, 'sunrise': 1635198630, 'sunset': 1635237683, 'moonrise': 1635250620, 'moonset': 1635216840, 'moon_phase': 0.67, 'temp': {'day': 16.74, 'min': 11.76, 'max': 18.15, 'night': 15.33, 'eve': 16.24, 'morn': 11.76}, 'feels_like': {'day': 15.8, 'night': 14.62, 'eve': 15.46, 'morn': 10.71}, 'pressure': 1021, 'humidity': 51, 'dew_point': 6.35, 'wind_speed': 2.71, 'wind_deg': 274, 'wind_gust': 3.01, 'weather': [{'id': 804, 'main': 'Clouds', 'description': 'overcast clouds', 'icon': '04d'}], 'clouds': 100, 'pop': 0, 'uvi': 3.17}, {'dt': 1635303600, 'sunrise': 1635285091, 'sunset': 1635324011, 'moonrise': 1635340140, 'moonset': 1635306300, 'moon_phase': 0.7, 'temp': {'day': 17.57, 'min': 12.81, 'max': 18.56, 'night': 13.98, 'eve': 16.74, 'morn': 12.81}, 'feels_like': {'day': 16.79, 'night': 12.56, 'eve': 15.7, 'morn': 12.39}, 'pressure': 1018, 'humidity': 54, 'dew_point': 7.99, 'wind_speed': 4.16, 'wind_deg': 289, 'wind_gust': 7.32, 'weather': [{'id': 500, 'main': 'Rain', 'description': 'light rain', 'icon': '10d'}], 'clouds': 2, 'pop': 0.63, 'rain': 2, 'uvi': 3.31}, {'dt': 1635390000, 'sunrise': 1635371553, 'sunset': 1635410340, 'moonrise': 1635430080, 'moonset': 1635395460, 'moon_phase': 0.73, 'temp': {'day': 16.33, 'min': 11.18, 'max': 17.79, 'night': 14.47, 'eve': 16.24, 'morn': 11.18}, 'feels_like': {'day': 14.67, 'night': 12.86, 'eve': 14.6, 'morn': 9.71}, 'pressure': 1023, 'humidity': 25, 'dew_point': -4.23, 'wind_speed': 2.62, 'wind_deg': 333, 'wind_gust': 7.78, 'weather': [{'id': 800, 'main': 'Clear', 'description': 'clear sky', 'icon': '01d'}], 'clouds': 0, 'pop': 0, 'uvi': 4}, {'dt': 1635476400, 'sunrise': 1635458014, 'sunset': 1635496671, 'moonrise': 0, 'moonset': 1635484260, 'moon_phase': 0.75, 'temp': {'day': 17.17, 'min': 11.06, 'max': 18.79, 'night': 15.06, 'eve': 17.12, 'morn': 11.06}, 'feels_like': {'day': 15.88, 'night': 13.87, 'eve': 15.83, 'morn': 9.53}, 'pressure': 1026, 'humidity': 36, 'dew_point': 1.67, 'wind_speed': 1.65, 'wind_deg': 288, 'wind_gust': 2.47, 'weather': [{'id': 800, 'main': 'Clear', 'description': 'clear sky', 'icon': '01d'}], 'clouds': 0, 'pop': 0, 'uvi': 4}, {'dt': 1635562800, 'sunrise': 1635544476, 'sunset': 1635583003, 'moonrise': 1635520200, 'moonset': 1635572760, 'moon_phase': 0.79, 'temp': {'day': 17.15, 'min': 12.08, 'max': 17.93, 'night': 16.07, 'eve': 17.21, 'morn': 12.08}, 'feels_like': {'day': 15.94, 'night': 14.83, 'eve': 15.93, 'morn': 10.83}, 'pressure': 1025, 'humidity': 39, 'dew_point': 2.9, 'wind_speed': 1.27, 'wind_deg': 316, 'wind_gust': 1.06, 'weather': [{'id': 804, 'main': 'Clouds', 'description': 'overcast clouds', 'icon': '04d'}], 'clouds': 87, 'pop': 0, 'uvi': 4}]}\n",
            "[{'dt': 1634958000, 'sunrise': 1634939250, 'sunset': 1634978705, 'moonrise': 1634984100, 'moonset': 1634947260, 'moon_phase': 0.58, 'temp': {'day': 12.08, 'min': 9.39, 'max': 17.31, 'night': 12.61, 'eve': 14.94, 'morn': 9.79}, 'feels_like': {'day': 10.83, 'night': 11, 'eve': 13.3, 'morn': 9.79}, 'pressure': 1029, 'humidity': 57, 'dew_point': 3.83, 'wind_speed': 3.4, 'wind_deg': 267, 'wind_gust': 3.35, 'weather': [{'id': 800, 'main': 'Clear', 'description': 'clear sky', 'icon': '01d'}], 'clouds': 0, 'pop': 0, 'uvi': 3.85}, {'dt': 1635044400, 'sunrise': 1635025709, 'sunset': 1635065030, 'moonrise': 1635072600, 'moonset': 1635037200, 'moon_phase': 0.61, 'temp': {'day': 15.87, 'min': 9.99, 'max': 16.98, 'night': 12.71, 'eve': 15.26, 'morn': 10.3}, 'feels_like': {'day': 14.48, 'night': 11.24, 'eve': 13.6, 'morn': 8.64}, 'pressure': 1028, 'humidity': 37, 'dew_point': 0.92, 'wind_speed': 2.65, 'wind_deg': 299, 'wind_gust': 3.39, 'weather': [{'id': 800, 'main': 'Clear', 'description': 'clear sky', 'icon': '01d'}], 'clouds': 0, 'pop': 0, 'uvi': 3.65}, {'dt': 1635130800, 'sunrise': 1635112170, 'sunset': 1635151356, 'moonrise': 1635161400, 'moonset': 1635127080, 'moon_phase': 0.64, 'temp': {'day': 15.93, 'min': 10.16, 'max': 17.42, 'night': 13.34, 'eve': 15.7, 'morn': 10.4}, 'feels_like': {'day': 14.57, 'night': 12.19, 'eve': 14.4, 'morn': 8.85}, 'pressure': 1024, 'humidity': 38, 'dew_point': 1.49, 'wind_speed': 2.97, 'wind_deg': 308, 'wind_gust': 3.7, 'weather': [{'id': 800, 'main': 'Clear', 'description': 'clear sky', 'icon': '01d'}], 'clouds': 0, 'pop': 0, 'uvi': 3.42}, {'dt': 1635217200, 'sunrise': 1635198630, 'sunset': 1635237683, 'moonrise': 1635250620, 'moonset': 1635216840, 'moon_phase': 0.67, 'temp': {'day': 16.74, 'min': 11.76, 'max': 18.15, 'night': 15.33, 'eve': 16.24, 'morn': 11.76}, 'feels_like': {'day': 15.8, 'night': 14.62, 'eve': 15.46, 'morn': 10.71}, 'pressure': 1021, 'humidity': 51, 'dew_point': 6.35, 'wind_speed': 2.71, 'wind_deg': 274, 'wind_gust': 3.01, 'weather': [{'id': 804, 'main': 'Clouds', 'description': 'overcast clouds', 'icon': '04d'}], 'clouds': 100, 'pop': 0, 'uvi': 3.17}, {'dt': 1635303600, 'sunrise': 1635285091, 'sunset': 1635324011, 'moonrise': 1635340140, 'moonset': 1635306300, 'moon_phase': 0.7, 'temp': {'day': 17.57, 'min': 12.81, 'max': 18.56, 'night': 13.98, 'eve': 16.74, 'morn': 12.81}, 'feels_like': {'day': 16.79, 'night': 12.56, 'eve': 15.7, 'morn': 12.39}, 'pressure': 1018, 'humidity': 54, 'dew_point': 7.99, 'wind_speed': 4.16, 'wind_deg': 289, 'wind_gust': 7.32, 'weather': [{'id': 500, 'main': 'Rain', 'description': 'light rain', 'icon': '10d'}], 'clouds': 2, 'pop': 0.63, 'rain': 2, 'uvi': 3.31}, {'dt': 1635390000, 'sunrise': 1635371553, 'sunset': 1635410340, 'moonrise': 1635430080, 'moonset': 1635395460, 'moon_phase': 0.73, 'temp': {'day': 16.33, 'min': 11.18, 'max': 17.79, 'night': 14.47, 'eve': 16.24, 'morn': 11.18}, 'feels_like': {'day': 14.67, 'night': 12.86, 'eve': 14.6, 'morn': 9.71}, 'pressure': 1023, 'humidity': 25, 'dew_point': -4.23, 'wind_speed': 2.62, 'wind_deg': 333, 'wind_gust': 7.78, 'weather': [{'id': 800, 'main': 'Clear', 'description': 'clear sky', 'icon': '01d'}], 'clouds': 0, 'pop': 0, 'uvi': 4}, {'dt': 1635476400, 'sunrise': 1635458014, 'sunset': 1635496671, 'moonrise': 0, 'moonset': 1635484260, 'moon_phase': 0.75, 'temp': {'day': 17.17, 'min': 11.06, 'max': 18.79, 'night': 15.06, 'eve': 17.12, 'morn': 11.06}, 'feels_like': {'day': 15.88, 'night': 13.87, 'eve': 15.83, 'morn': 9.53}, 'pressure': 1026, 'humidity': 36, 'dew_point': 1.67, 'wind_speed': 1.65, 'wind_deg': 288, 'wind_gust': 2.47, 'weather': [{'id': 800, 'main': 'Clear', 'description': 'clear sky', 'icon': '01d'}], 'clouds': 0, 'pop': 0, 'uvi': 4}, {'dt': 1635562800, 'sunrise': 1635544476, 'sunset': 1635583003, 'moonrise': 1635520200, 'moonset': 1635572760, 'moon_phase': 0.79, 'temp': {'day': 17.15, 'min': 12.08, 'max': 17.93, 'night': 16.07, 'eve': 17.21, 'morn': 12.08}, 'feels_like': {'day': 15.94, 'night': 14.83, 'eve': 15.93, 'morn': 10.83}, 'pressure': 1025, 'humidity': 39, 'dew_point': 2.9, 'wind_speed': 1.27, 'wind_deg': 316, 'wind_gust': 1.06, 'weather': [{'id': 804, 'main': 'Clouds', 'description': 'overcast clouds', 'icon': '04d'}], 'clouds': 87, 'pop': 0, 'uvi': 4}]\n",
            "           dt     sunrise      sunset  ...  feels_like.eve  feels_like.morn  rain\n",
            "0  1634958000  1634939250  1634978705  ...           13.30             9.79   NaN\n",
            "1  1635044400  1635025709  1635065030  ...           13.60             8.64   NaN\n",
            "2  1635130800  1635112170  1635151356  ...           14.40             8.85   NaN\n",
            "3  1635217200  1635198630  1635237683  ...           15.46            10.71   NaN\n",
            "4  1635303600  1635285091  1635324011  ...           15.70            12.39   2.0\n",
            "5  1635390000  1635371553  1635410340  ...           14.60             9.71   NaN\n",
            "6  1635476400  1635458014  1635496671  ...           15.83             9.53   NaN\n",
            "7  1635562800  1635544476  1635583003  ...           15.93            10.83   NaN\n",
            "\n",
            "[8 rows x 27 columns]\n"
          ]
        }
      ]
    },
    {
      "cell_type": "code",
      "metadata": {
        "colab": {
          "base_uri": "https://localhost:8080/",
          "height": 564
        },
        "id": "PMQNPwXbQOy0",
        "outputId": "249dbcf6-2610-4d1a-b20c-fcbe8791e2d9"
      },
      "source": [
        "# epoch 을 datetime형태로 변환\n",
        "from datetime import *\n",
        "newdt=[]\n",
        "\n",
        "for date in df['dt'] :\n",
        "  newdt.append(datetime.fromtimestamp(date).strftime('%Y-%m-%d'))\n",
        "\n",
        "df['dt'] = newdt\n",
        "\n",
        "\n",
        "df.head()\n"
      ],
      "execution_count": null,
      "outputs": [
        {
          "output_type": "execute_result",
          "data": {
            "text/html": [
              "<div>\n",
              "<style scoped>\n",
              "    .dataframe tbody tr th:only-of-type {\n",
              "        vertical-align: middle;\n",
              "    }\n",
              "\n",
              "    .dataframe tbody tr th {\n",
              "        vertical-align: top;\n",
              "    }\n",
              "\n",
              "    .dataframe thead th {\n",
              "        text-align: right;\n",
              "    }\n",
              "</style>\n",
              "<table border=\"1\" class=\"dataframe\">\n",
              "  <thead>\n",
              "    <tr style=\"text-align: right;\">\n",
              "      <th></th>\n",
              "      <th>dt</th>\n",
              "      <th>sunrise</th>\n",
              "      <th>sunset</th>\n",
              "      <th>moonrise</th>\n",
              "      <th>moonset</th>\n",
              "      <th>moon_phase</th>\n",
              "      <th>pressure</th>\n",
              "      <th>humidity</th>\n",
              "      <th>dew_point</th>\n",
              "      <th>wind_speed</th>\n",
              "      <th>wind_deg</th>\n",
              "      <th>wind_gust</th>\n",
              "      <th>weather</th>\n",
              "      <th>clouds</th>\n",
              "      <th>pop</th>\n",
              "      <th>uvi</th>\n",
              "      <th>temp.day</th>\n",
              "      <th>temp.min</th>\n",
              "      <th>temp.max</th>\n",
              "      <th>temp.night</th>\n",
              "      <th>temp.eve</th>\n",
              "      <th>temp.morn</th>\n",
              "      <th>feels_like.day</th>\n",
              "      <th>feels_like.night</th>\n",
              "      <th>feels_like.eve</th>\n",
              "      <th>feels_like.morn</th>\n",
              "      <th>rain</th>\n",
              "    </tr>\n",
              "  </thead>\n",
              "  <tbody>\n",
              "    <tr>\n",
              "      <th>0</th>\n",
              "      <td>2021-10-23</td>\n",
              "      <td>1634939250</td>\n",
              "      <td>1634978705</td>\n",
              "      <td>1634984100</td>\n",
              "      <td>1634947260</td>\n",
              "      <td>0.58</td>\n",
              "      <td>1029</td>\n",
              "      <td>57</td>\n",
              "      <td>3.83</td>\n",
              "      <td>3.40</td>\n",
              "      <td>267</td>\n",
              "      <td>3.35</td>\n",
              "      <td>[{'id': 800, 'main': 'Clear', 'description': '...</td>\n",
              "      <td>0</td>\n",
              "      <td>0.00</td>\n",
              "      <td>3.85</td>\n",
              "      <td>12.08</td>\n",
              "      <td>9.39</td>\n",
              "      <td>17.31</td>\n",
              "      <td>12.61</td>\n",
              "      <td>14.94</td>\n",
              "      <td>9.79</td>\n",
              "      <td>10.83</td>\n",
              "      <td>11.00</td>\n",
              "      <td>13.30</td>\n",
              "      <td>9.79</td>\n",
              "      <td>NaN</td>\n",
              "    </tr>\n",
              "    <tr>\n",
              "      <th>1</th>\n",
              "      <td>2021-10-24</td>\n",
              "      <td>1635025709</td>\n",
              "      <td>1635065030</td>\n",
              "      <td>1635072600</td>\n",
              "      <td>1635037200</td>\n",
              "      <td>0.61</td>\n",
              "      <td>1028</td>\n",
              "      <td>37</td>\n",
              "      <td>0.92</td>\n",
              "      <td>2.65</td>\n",
              "      <td>299</td>\n",
              "      <td>3.39</td>\n",
              "      <td>[{'id': 800, 'main': 'Clear', 'description': '...</td>\n",
              "      <td>0</td>\n",
              "      <td>0.00</td>\n",
              "      <td>3.65</td>\n",
              "      <td>15.87</td>\n",
              "      <td>9.99</td>\n",
              "      <td>16.98</td>\n",
              "      <td>12.71</td>\n",
              "      <td>15.26</td>\n",
              "      <td>10.30</td>\n",
              "      <td>14.48</td>\n",
              "      <td>11.24</td>\n",
              "      <td>13.60</td>\n",
              "      <td>8.64</td>\n",
              "      <td>NaN</td>\n",
              "    </tr>\n",
              "    <tr>\n",
              "      <th>2</th>\n",
              "      <td>2021-10-25</td>\n",
              "      <td>1635112170</td>\n",
              "      <td>1635151356</td>\n",
              "      <td>1635161400</td>\n",
              "      <td>1635127080</td>\n",
              "      <td>0.64</td>\n",
              "      <td>1024</td>\n",
              "      <td>38</td>\n",
              "      <td>1.49</td>\n",
              "      <td>2.97</td>\n",
              "      <td>308</td>\n",
              "      <td>3.70</td>\n",
              "      <td>[{'id': 800, 'main': 'Clear', 'description': '...</td>\n",
              "      <td>0</td>\n",
              "      <td>0.00</td>\n",
              "      <td>3.42</td>\n",
              "      <td>15.93</td>\n",
              "      <td>10.16</td>\n",
              "      <td>17.42</td>\n",
              "      <td>13.34</td>\n",
              "      <td>15.70</td>\n",
              "      <td>10.40</td>\n",
              "      <td>14.57</td>\n",
              "      <td>12.19</td>\n",
              "      <td>14.40</td>\n",
              "      <td>8.85</td>\n",
              "      <td>NaN</td>\n",
              "    </tr>\n",
              "    <tr>\n",
              "      <th>3</th>\n",
              "      <td>2021-10-26</td>\n",
              "      <td>1635198630</td>\n",
              "      <td>1635237683</td>\n",
              "      <td>1635250620</td>\n",
              "      <td>1635216840</td>\n",
              "      <td>0.67</td>\n",
              "      <td>1021</td>\n",
              "      <td>51</td>\n",
              "      <td>6.35</td>\n",
              "      <td>2.71</td>\n",
              "      <td>274</td>\n",
              "      <td>3.01</td>\n",
              "      <td>[{'id': 804, 'main': 'Clouds', 'description': ...</td>\n",
              "      <td>100</td>\n",
              "      <td>0.00</td>\n",
              "      <td>3.17</td>\n",
              "      <td>16.74</td>\n",
              "      <td>11.76</td>\n",
              "      <td>18.15</td>\n",
              "      <td>15.33</td>\n",
              "      <td>16.24</td>\n",
              "      <td>11.76</td>\n",
              "      <td>15.80</td>\n",
              "      <td>14.62</td>\n",
              "      <td>15.46</td>\n",
              "      <td>10.71</td>\n",
              "      <td>NaN</td>\n",
              "    </tr>\n",
              "    <tr>\n",
              "      <th>4</th>\n",
              "      <td>2021-10-27</td>\n",
              "      <td>1635285091</td>\n",
              "      <td>1635324011</td>\n",
              "      <td>1635340140</td>\n",
              "      <td>1635306300</td>\n",
              "      <td>0.70</td>\n",
              "      <td>1018</td>\n",
              "      <td>54</td>\n",
              "      <td>7.99</td>\n",
              "      <td>4.16</td>\n",
              "      <td>289</td>\n",
              "      <td>7.32</td>\n",
              "      <td>[{'id': 500, 'main': 'Rain', 'description': 'l...</td>\n",
              "      <td>2</td>\n",
              "      <td>0.63</td>\n",
              "      <td>3.31</td>\n",
              "      <td>17.57</td>\n",
              "      <td>12.81</td>\n",
              "      <td>18.56</td>\n",
              "      <td>13.98</td>\n",
              "      <td>16.74</td>\n",
              "      <td>12.81</td>\n",
              "      <td>16.79</td>\n",
              "      <td>12.56</td>\n",
              "      <td>15.70</td>\n",
              "      <td>12.39</td>\n",
              "      <td>2.0</td>\n",
              "    </tr>\n",
              "  </tbody>\n",
              "</table>\n",
              "</div>"
            ],
            "text/plain": [
              "           dt     sunrise      sunset  ...  feels_like.eve  feels_like.morn  rain\n",
              "0  2021-10-23  1634939250  1634978705  ...           13.30             9.79   NaN\n",
              "1  2021-10-24  1635025709  1635065030  ...           13.60             8.64   NaN\n",
              "2  2021-10-25  1635112170  1635151356  ...           14.40             8.85   NaN\n",
              "3  2021-10-26  1635198630  1635237683  ...           15.46            10.71   NaN\n",
              "4  2021-10-27  1635285091  1635324011  ...           15.70            12.39   2.0\n",
              "\n",
              "[5 rows x 27 columns]"
            ]
          },
          "metadata": {},
          "execution_count": 25
        }
      ]
    },
    {
      "cell_type": "markdown",
      "metadata": {
        "id": "97nZWQHFiR_2"
      },
      "source": [
        "### Dataframe에 날짜, 최소온도, 최대온도, 평균온도만"
      ]
    },
    {
      "cell_type": "code",
      "metadata": {
        "colab": {
          "base_uri": "https://localhost:8080/",
          "height": 297
        },
        "id": "ANPN0qaAWqpq",
        "outputId": "74744252-0f7a-4077-84bb-f99b2097c5f3"
      },
      "source": [
        "colname = ['dt','temp.min', 'temp.max', 'temp.day']\n",
        "df = df.drop(columns=[col for col in df if col not in colname])\n",
        "# 평균온도가 min max의 평균일때 : df['AVG_Temp'] = df[['temp.min', 'temp.max']].mean(numeric_only=True, axis=1).round(2)\n",
        "df = df.rename(columns={'dt': 'Date', 'temp.day':'AVG_Temp','temp.min': 'Min_Temp', 'temp.max': 'Max_Temp'})\n",
        "df.head(10)"
      ],
      "execution_count": null,
      "outputs": [
        {
          "output_type": "execute_result",
          "data": {
            "text/html": [
              "<div>\n",
              "<style scoped>\n",
              "    .dataframe tbody tr th:only-of-type {\n",
              "        vertical-align: middle;\n",
              "    }\n",
              "\n",
              "    .dataframe tbody tr th {\n",
              "        vertical-align: top;\n",
              "    }\n",
              "\n",
              "    .dataframe thead th {\n",
              "        text-align: right;\n",
              "    }\n",
              "</style>\n",
              "<table border=\"1\" class=\"dataframe\">\n",
              "  <thead>\n",
              "    <tr style=\"text-align: right;\">\n",
              "      <th></th>\n",
              "      <th>Date</th>\n",
              "      <th>AVG_Temp</th>\n",
              "      <th>Min_Temp</th>\n",
              "      <th>Max_Temp</th>\n",
              "    </tr>\n",
              "  </thead>\n",
              "  <tbody>\n",
              "    <tr>\n",
              "      <th>0</th>\n",
              "      <td>2021-10-23</td>\n",
              "      <td>12.08</td>\n",
              "      <td>9.39</td>\n",
              "      <td>17.31</td>\n",
              "    </tr>\n",
              "    <tr>\n",
              "      <th>1</th>\n",
              "      <td>2021-10-24</td>\n",
              "      <td>15.87</td>\n",
              "      <td>9.99</td>\n",
              "      <td>16.98</td>\n",
              "    </tr>\n",
              "    <tr>\n",
              "      <th>2</th>\n",
              "      <td>2021-10-25</td>\n",
              "      <td>15.93</td>\n",
              "      <td>10.16</td>\n",
              "      <td>17.42</td>\n",
              "    </tr>\n",
              "    <tr>\n",
              "      <th>3</th>\n",
              "      <td>2021-10-26</td>\n",
              "      <td>16.74</td>\n",
              "      <td>11.76</td>\n",
              "      <td>18.15</td>\n",
              "    </tr>\n",
              "    <tr>\n",
              "      <th>4</th>\n",
              "      <td>2021-10-27</td>\n",
              "      <td>17.57</td>\n",
              "      <td>12.81</td>\n",
              "      <td>18.56</td>\n",
              "    </tr>\n",
              "    <tr>\n",
              "      <th>5</th>\n",
              "      <td>2021-10-28</td>\n",
              "      <td>16.33</td>\n",
              "      <td>11.18</td>\n",
              "      <td>17.79</td>\n",
              "    </tr>\n",
              "    <tr>\n",
              "      <th>6</th>\n",
              "      <td>2021-10-29</td>\n",
              "      <td>17.17</td>\n",
              "      <td>11.06</td>\n",
              "      <td>18.79</td>\n",
              "    </tr>\n",
              "    <tr>\n",
              "      <th>7</th>\n",
              "      <td>2021-10-30</td>\n",
              "      <td>17.15</td>\n",
              "      <td>12.08</td>\n",
              "      <td>17.93</td>\n",
              "    </tr>\n",
              "  </tbody>\n",
              "</table>\n",
              "</div>"
            ],
            "text/plain": [
              "         Date  AVG_Temp  Min_Temp  Max_Temp\n",
              "0  2021-10-23     12.08      9.39     17.31\n",
              "1  2021-10-24     15.87      9.99     16.98\n",
              "2  2021-10-25     15.93     10.16     17.42\n",
              "3  2021-10-26     16.74     11.76     18.15\n",
              "4  2021-10-27     17.57     12.81     18.56\n",
              "5  2021-10-28     16.33     11.18     17.79\n",
              "6  2021-10-29     17.17     11.06     18.79\n",
              "7  2021-10-30     17.15     12.08     17.93"
            ]
          },
          "metadata": {},
          "execution_count": 26
        }
      ]
    },
    {
      "cell_type": "code",
      "metadata": {
        "id": "1dhSJeLPsTqb",
        "colab": {
          "base_uri": "https://localhost:8080/"
        },
        "outputId": "18252d74-a929-4c1c-b8c9-0cf698684210"
      },
      "source": [
        "# Solution:\n",
        "daily = data[\"daily\"]\n",
        "\n",
        "from datetime import *\n",
        "\n",
        "\"\"\"\n",
        " 멱등성: 1번 실행하나 10번 연달아 실행하나 같은 레코드들을 갖고 있어야 한다\n",
        "CREATE TABLE keeyong.seoul_temp (\n",
        "    date DATE PRIMARY KEY,\n",
        "    day float,\n",
        "    min float,\n",
        "    max float,\n",
        "    created timestamp DEFAULT current_date()\n",
        ");\n",
        "\n",
        "ROW_NUMBER() OVER (PARTITION BY date ORDER BY created DESC) nn\n",
        "\"\"\"\n",
        "\n",
        "for entry in daily:\n",
        "    dt = datetime.fromtimestamp(entry[\"dt\"]).strftime('%Y-%m-%d') #날짜\n",
        "    day = entry[\"temp\"][\"day\"] #평균온도\n",
        "    min = entry[\"temp\"][\"min\"] #최소온도 \n",
        "    max = entry[\"temp\"][\"max\"] #최대온도\n",
        "    print(f\"{dt:11}{day:7}{min:7}{max:7}\")"
      ],
      "execution_count": null,
      "outputs": [
        {
          "output_type": "stream",
          "name": "stdout",
          "text": [
            "2021-10-23   12.08   9.39  17.31\n",
            "2021-10-24   15.87   9.99  16.98\n",
            "2021-10-25   15.93  10.16  17.42\n",
            "2021-10-26   16.74  11.76  18.15\n",
            "2021-10-27   17.57  12.81  18.56\n",
            "2021-10-28   16.33  11.18  17.79\n",
            "2021-10-29   17.17  11.06  18.79\n",
            "2021-10-30   17.15  12.08  17.93\n"
          ]
        }
      ]
    },
    {
      "cell_type": "code",
      "metadata": {
        "id": "Rwmb7mSEjwup"
      },
      "source": [
        ""
      ],
      "execution_count": null,
      "outputs": []
    }
  ]
}