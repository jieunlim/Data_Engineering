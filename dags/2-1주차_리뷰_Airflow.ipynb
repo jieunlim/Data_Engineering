{
  "nbformat": 4,
  "nbformat_minor": 0,
  "metadata": {
    "colab": {
      "name": "1주차 리뷰 Airflow.ipynb",
      "provenance": []
    },
    "kernelspec": {
      "name": "python3",
      "display_name": "Python 3"
    },
    "language_info": {
      "name": "python"
    }
  },
  "cells": [
    {
      "cell_type": "markdown",
      "metadata": {
        "id": "br5vMkgLWbOL"
      },
      "source": [
        "# name, gender 읽어오기 ETL 버전의 load 함수에 들어갈 내용 채워보기"
      ]
    },
    {
      "cell_type": "markdown",
      "metadata": {
        "id": "awDExFoZWkln"
      },
      "source": [
        "1. INSERT INTO SQL 완성하기"
      ]
    },
    {
      "cell_type": "code",
      "metadata": {
        "id": "3JkPEYSsWUyC"
      },
      "source": [
        "def load(csv_reader):\n",
        "    cur = get_Redshift_connection()    \n",
        "    for name, gender in csv_reader:\n",
        "        sql = \"\"\"\n",
        "            INSERT INTO raw_data.name_gender\n",
        "            VALUES (name, gender)\n",
        "            \"\"\"\n",
        "        cur.execute(sql)"
      ],
      "execution_count": null,
      "outputs": []
    },
    {
      "cell_type": "markdown",
      "metadata": {
        "id": "RQvWt-jUWzdz"
      },
      "source": [
        "2. Full-Refresh형태로 동작하게 load 함수의 내용을 변경하기"
      ]
    },
    {
      "cell_type": "code",
      "metadata": {
        "id": "E5LKSNgPW41_"
      },
      "source": [
        "# BEGIN;END\n",
        "def load(csv_reader):\n",
        "    cur = get_Redshift_connection() \n",
        "    # cur: autocommit = True - BEGIN;END\n",
        "    sql = \"\"\"BEGIN;CREATE TALBE IF NOT EXISTS raw_data.name_gender (\n",
        "            name varchar(64),\n",
        "            gender varchar(16)\n",
        "            );\n",
        "            DELETE FROM raw_data.name_gender;\"\"\"\n",
        "    cur.execute(sql)   \n",
        "    for name, gender in csv_reader:\n",
        "        sql = \"\"\"\n",
        "            INSERT INTO raw_data.name_gender\n",
        "            VALUES ({name}, {gender});\n",
        "            \"\"\".format(name=name, gender=gender)\n",
        "        cur.execute(sql)\n",
        "    cur.execute(\"END\")\n",
        "\n",
        "# try/catch. autocommit = TRUE\n",
        "def load(csv_reader):\n",
        "    cur = get_Redshift_connection() \n",
        "    try:\n",
        "      sql = \"\"\"BEGIN;CREATE TALBE IF NOT EXISTS raw_data.name_gender (\n",
        "              name varchar(64),\n",
        "              gender varchar(16)\n",
        "              );\n",
        "              DELETE FROM raw_data.name_gender;\"\"\"\n",
        "      cur.execute(sql)   \n",
        "      for name, gender in csv_reader:\n",
        "          sql = \"\"\"\n",
        "              INSERT INTO raw_data.name_gender\n",
        "              VALUES ({name}, {gender});\n",
        "              \"\"\".format(name=name, gender=gender)\n",
        "          cur.execute(sql)\n",
        "      cur.execute(\"END\") # cur.execute(\"COMMIT\")\n",
        "    except Exception as e:\n",
        "      cur.execute(\"ROLLBACK\")    \n",
        "\n",
        "# try/catch. autocommit = FALSE\n",
        "def load(csv_reader):\n",
        "    cur = get_Redshift_connection() \n",
        "    try:\n",
        "      sql = \"\"\"CREATE TALBE IF NOT EXISTS raw_data.name_gender (\n",
        "              name varchar(64),\n",
        "              gender varchar(16)\n",
        "              );\n",
        "              DELETE FROM raw_data.name_gender;\"\"\"\n",
        "      cur.execute(sql)   \n",
        "      for name, gender in csv_reader:\n",
        "          sql = \"\"\"\n",
        "              INSERT INTO raw_data.name_gender\n",
        "              VALUES ({name}, {gender});\n",
        "              \"\"\".format(name=name, gender=gender)\n",
        "          cur.execute(sql)\n",
        "      cur.execute(\"END\") # cur.execute(\"COMMIT\")\n",
        "    except Exception as e:\n",
        "      cur.execute(\"ROLLBACK\") "
      ],
      "execution_count": null,
      "outputs": []
    },
    {
      "cell_type": "markdown",
      "metadata": {
        "id": "lE9zkyPeZTJr"
      },
      "source": [
        "# Open Weathermap API: 서울 7일 평균/최소/최대 온도 읽어오기"
      ]
    },
    {
      "cell_type": "code",
      "metadata": {
        "id": "4oXBRBjsb7tg"
      },
      "source": [
        "import requests, json\n",
        "\n",
        "url = \"https://api.openweathermap.org/data/2.5/onecall?lat=37.34&lon=126.57&exclude=current,minutely,hourly,alerts&appid=2528f873d1a0d14803ef7394abaf43b4\"\n",
        "response = requests.get(url)\n",
        "data = json.loads(response.text) # data = response.json()\n",
        "\n",
        "# 서울의 위도 경도 참고 정보 -> http://www.seoul.climatemps.com/map.php"
      ],
      "execution_count": null,
      "outputs": []
    },
    {
      "cell_type": "code",
      "metadata": {
        "id": "oMIBrsrzbh7-"
      },
      "source": [
        "daily = data[\"daily\"]"
      ],
      "execution_count": null,
      "outputs": []
    },
    {
      "cell_type": "code",
      "metadata": {
        "colab": {
          "base_uri": "https://localhost:8080/"
        },
        "id": "LSOy0znIfWUf",
        "outputId": "8979d80d-7b08-4311-914a-d1f8ab13dcbb"
      },
      "source": [
        "from datetime import *\n",
        "\n",
        "\"\"\"\n",
        " 멱등성: 1번 실행하나 10번 연달아 실행하나 같은 레코드들을 갖고 있어야 한다\n",
        "CREATE TABLE keeyong.seoul_temp (\n",
        "    date DATE PRIMARY KEY,\n",
        "    day float,\n",
        "    min float,\n",
        "    max float,\n",
        "    created timestamp DEFAULT current_date()\n",
        ");\n",
        "\n",
        "ROW_NUMBER() OVER (PARTITION BY date ORDER BY created DESC) nn\n",
        "\"\"\"\n",
        "\n",
        "for entry in daily:\n",
        "    dt = datetime.fromtimestamp(entry[\"dt\"]).strftime('%Y-%m-%d') #날짜\n",
        "    day = entry[\"temp\"][\"day\"] #평균온도\n",
        "    min = entry[\"temp\"][\"min\"] #최소온도 \n",
        "    max = entry[\"temp\"][\"max\"] #최대온도\n",
        "    print(f\"{dt:11}{day:7}{min:7}{max:7}\")"
      ],
      "execution_count": null,
      "outputs": [
        {
          "output_type": "stream",
          "name": "stdout",
          "text": [
            "2021-10-16  285.36  280.4 292.23\n",
            "2021-10-17  281.35 278.42 283.98\n",
            "2021-10-18  285.06 282.88 288.69\n",
            "2021-10-19  285.04 284.28 288.94\n",
            "2021-10-20  284.11  282.7 285.77\n",
            "2021-10-21  285.23  283.7 287.19\n",
            "2021-10-22  286.73 285.53 288.55\n",
            "2021-10-23  287.38 285.47 288.93\n"
          ]
        }
      ]
    },
    {
      "cell_type": "code",
      "metadata": {
        "id": "jI1M1Uemf6T5"
      },
      "source": [
        ""
      ],
      "execution_count": null,
      "outputs": []
    }
  ]
}